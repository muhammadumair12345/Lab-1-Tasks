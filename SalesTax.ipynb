{
 "cells": [
  {
   "cell_type": "code",
   "execution_count": 6,
   "metadata": {},
   "outputs": [
    {
     "name": "stdout",
     "output_type": "stream",
     "text": [
      "Enter the amount of purchase: 20\n",
      "Amount of purchase is:  20.0\n",
      "State Tax:  1.0\n",
      "County Tax:  0.5\n",
      "Total Sales Tax:  1.5\n",
      "Total Sales:  21.5\n"
     ]
    }
   ],
   "source": [
    "purchase_amount=float(input(\"Enter the amount of purchase: \"));\n",
    "state_sales_tax=(purchase_amount*5)/100\n",
    "county_sales_tax=(purchase_amount*2.5)/100\n",
    "total_sales_tax=state_sales_tax+county_sales_tax\n",
    "print(\"Amount of purchase is: \",purchase_amount)\n",
    "print(\"State Tax: \",state_sales_tax)\n",
    "print(\"County Tax: \",county_sales_tax)\n",
    "print(\"Total Sales Tax: \",total_sales_tax)\n",
    "print(\"Total Sales: \",(purchase_amount+total_sales_tax))\n"
   ]
  },
  {
   "cell_type": "code",
   "execution_count": null,
   "metadata": {},
   "outputs": [],
   "source": []
  },
  {
   "cell_type": "code",
   "execution_count": null,
   "metadata": {},
   "outputs": [],
   "source": []
  }
 ],
 "metadata": {
  "kernelspec": {
   "display_name": "Python 3",
   "language": "python",
   "name": "python3"
  },
  "language_info": {
   "codemirror_mode": {
    "name": "ipython",
    "version": 3
   },
   "file_extension": ".py",
   "mimetype": "text/x-python",
   "name": "python",
   "nbconvert_exporter": "python",
   "pygments_lexer": "ipython3",
   "version": "3.7.6"
  }
 },
 "nbformat": 4,
 "nbformat_minor": 4
}
