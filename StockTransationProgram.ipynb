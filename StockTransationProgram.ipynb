{
 "cells": [
  {
   "cell_type": "code",
   "execution_count": 2,
   "metadata": {},
   "outputs": [
    {
     "name": "stdout",
     "output_type": "stream",
     "text": [
      "Amount of money paid for the stock $ 80000.0\n",
      "Amount of commission paid to broker $ 2400.0\n",
      "Amount for which Joe sold the stock $ 85500.0\n",
      "Amount of commission paid to broker when Joe sold the stock $ 2565.0\n",
      "Total Amount Left  80535.0\n"
     ]
    }
   ],
   "source": [
    "STOCKBROKER_COMMISSION=0.03\n",
    "sold_shares= purchased_shares=2000\n",
    "per_share_price=40.00\n",
    "\n",
    "total_amount_paid_for_stock=purchased_shares*per_share_price\n",
    "print('Amount of money paid for the stock $', total_amount_paid_for_stock)\n",
    "\n",
    "commission_paid_when_bought = total_amount_paid_for_stock * STOCKBROKER_COMMISSION\n",
    "print('Amount of commission paid to broker $', commission_paid_when_bought)\n",
    "\n",
    "price_per_share=42.75\n",
    "\n",
    "amount_stock_sold_for=sold_shares * price_per_share\n",
    "print('Amount for which Joe sold the stock $', amount_stock_sold_for)\n",
    "\n",
    "commission_paid_when_sold = amount_stock_sold_for*STOCKBROKER_COMMISSION\n",
    "print('Amount of commission paid to broker when Joe sold the stock $',commission_paid_when_sold)\n",
    "\n",
    "total_amount_left = amount_stock_sold_for-(commission_paid_when_bought+commission_paid_when_sold)\n",
    "\n",
    "print('Total Amount Left ',total_amount_left)"
   ]
  },
  {
   "cell_type": "code",
   "execution_count": null,
   "metadata": {},
   "outputs": [],
   "source": []
  }
 ],
 "metadata": {
  "kernelspec": {
   "display_name": "Python 3",
   "language": "python",
   "name": "python3"
  },
  "language_info": {
   "codemirror_mode": {
    "name": "ipython",
    "version": 3
   },
   "file_extension": ".py",
   "mimetype": "text/x-python",
   "name": "python",
   "nbconvert_exporter": "python",
   "pygments_lexer": "ipython3",
   "version": "3.7.6"
  }
 },
 "nbformat": 4,
 "nbformat_minor": 4
}
