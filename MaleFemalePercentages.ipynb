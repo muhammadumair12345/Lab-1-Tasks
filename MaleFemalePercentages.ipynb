{
 "cells": [
  {
   "cell_type": "code",
   "execution_count": 4,
   "metadata": {},
   "outputs": [
    {
     "name": "stdout",
     "output_type": "stream",
     "text": [
      "Enter no of male students in class: 20\n",
      "Enter no of female students in class: 20\n",
      "Percentage of male in class is:  50.0 %\n",
      "Percentage of female in class is:  50.0 %\n"
     ]
    }
   ],
   "source": [
    "no_of_male=int(input(\"Enter no of male students in class: \"))\n",
    "no_of_female=int(input(\"Enter no of female students in class: \"))\n",
    "total_students=no_of_male+no_of_female\n",
    "male_percent=(no_of_male/total_students)*100\n",
    "female_percent=(no_of_female/total_students)*100\n",
    "print(\"Percentage of male in class is: \",male_percent,\"%\")\n",
    "print(\"Percentage of female in class is: \",female_percent,\"%\")"
   ]
  },
  {
   "cell_type": "code",
   "execution_count": null,
   "metadata": {},
   "outputs": [],
   "source": []
  }
 ],
 "metadata": {
  "kernelspec": {
   "display_name": "Python 3",
   "language": "python",
   "name": "python3"
  },
  "language_info": {
   "codemirror_mode": {
    "name": "ipython",
    "version": 3
   },
   "file_extension": ".py",
   "mimetype": "text/x-python",
   "name": "python",
   "nbconvert_exporter": "python",
   "pygments_lexer": "ipython3",
   "version": "3.7.6"
  }
 },
 "nbformat": 4,
 "nbformat_minor": 4
}
