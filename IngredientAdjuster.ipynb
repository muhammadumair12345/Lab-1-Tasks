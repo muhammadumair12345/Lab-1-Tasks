{
 "cells": [
  {
   "cell_type": "code",
   "execution_count": 1,
   "metadata": {},
   "outputs": [
    {
     "name": "stdout",
     "output_type": "stream",
     "text": [
      "Enter number of cookies you want to make: 100\n",
      "Number of cookies:  100\n",
      "Total Sugar:  3.125\n",
      "Total Butter:  2.0833333333333335\n",
      "Total Flour:  5.729166666666667\n"
     ]
    }
   ],
   "source": [
    "COOKIES = 48\n",
    "SUGAR = 1.5\n",
    "BUTTER = 1\n",
    "FLOUR = 2.75\n",
    "\n",
    "no_of_cookies = int(input(\"Enter number of cookies you want to make: \"))\n",
    "\n",
    "total_sugar  = (SUGAR * no_of_cookies) / COOKIES\n",
    "total_butter = (BUTTER * no_of_cookies) / COOKIES\n",
    "total_flour  = (FLOUR * no_of_cookies) / COOKIES\n",
    "\n",
    "print(\"Number of cookies: \",no_of_cookies)\n",
    "print(\"Total Sugar: \",total_sugar)\n",
    "print(\"Total Butter: \",total_butter)\n",
    "print(\"Total Flour: \",total_flour)\n"
   ]
  },
  {
   "cell_type": "code",
   "execution_count": null,
   "metadata": {},
   "outputs": [],
   "source": []
  }
 ],
 "metadata": {
  "kernelspec": {
   "display_name": "Python 3",
   "language": "python",
   "name": "python3"
  },
  "language_info": {
   "codemirror_mode": {
    "name": "ipython",
    "version": 3
   },
   "file_extension": ".py",
   "mimetype": "text/x-python",
   "name": "python",
   "nbconvert_exporter": "python",
   "pygments_lexer": "ipython3",
   "version": "3.7.6"
  }
 },
 "nbformat": 4,
 "nbformat_minor": 4
}
