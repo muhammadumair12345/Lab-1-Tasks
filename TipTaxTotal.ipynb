{
 "cells": [
  {
   "cell_type": "code",
   "execution_count": 3,
   "metadata": {},
   "outputs": [
    {
     "name": "stdout",
     "output_type": "stream",
     "text": [
      "Enter total amount of meal: 323\n",
      "Meal Charge:  323.0\n",
      "Tip:  58.14\n",
      "Sales Tax:  22.61\n",
      "Total Cost:  403.75\n"
     ]
    }
   ],
   "source": [
    "meal_charge=float(input(\"Enter total amount of meal: \"))\n",
    "tip=(meal_charge*18)/100\n",
    "sales_tax=(meal_charge*7)/100\n",
    "total_cost=meal_charge+tip+sales_tax;\n",
    "print(\"Meal Charge: \",meal_charge)\n",
    "print(\"Tip: \",tip);\n",
    "print(\"Sales Tax: \",sales_tax)\n",
    "print(\"Total Cost: \",total_cost)"
   ]
  },
  {
   "cell_type": "code",
   "execution_count": null,
   "metadata": {},
   "outputs": [],
   "source": []
  }
 ],
 "metadata": {
  "kernelspec": {
   "display_name": "Python 3",
   "language": "python",
   "name": "python3"
  },
  "language_info": {
   "codemirror_mode": {
    "name": "ipython",
    "version": 3
   },
   "file_extension": ".py",
   "mimetype": "text/x-python",
   "name": "python",
   "nbconvert_exporter": "python",
   "pygments_lexer": "ipython3",
   "version": "3.7.6"
  }
 },
 "nbformat": 4,
 "nbformat_minor": 4
}
